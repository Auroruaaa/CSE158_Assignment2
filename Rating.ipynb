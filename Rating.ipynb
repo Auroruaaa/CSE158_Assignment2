{
 "cells": [
  {
   "cell_type": "code",
   "execution_count": 1,
   "metadata": {},
   "outputs": [],
   "source": [
    "import pandas as pd\n",
    "import numpy as np\n",
    "from collections import defaultdict\n"
   ]
  },
  {
   "cell_type": "code",
   "execution_count": 2,
   "metadata": {},
   "outputs": [],
   "source": [
    "df_ratings = pd.read_csv('ratings_without_timestamp.csv')\n",
    "df_movies = pd.read_csv('df_movies_final.csv')"
   ]
  },
  {
   "cell_type": "code",
   "execution_count": 3,
   "metadata": {},
   "outputs": [
    {
     "data": {
      "text/html": [
       "<div>\n",
       "<style scoped>\n",
       "    .dataframe tbody tr th:only-of-type {\n",
       "        vertical-align: middle;\n",
       "    }\n",
       "\n",
       "    .dataframe tbody tr th {\n",
       "        vertical-align: top;\n",
       "    }\n",
       "\n",
       "    .dataframe thead th {\n",
       "        text-align: right;\n",
       "    }\n",
       "</style>\n",
       "<table border=\"1\" class=\"dataframe\">\n",
       "  <thead>\n",
       "    <tr style=\"text-align: right;\">\n",
       "      <th></th>\n",
       "      <th>userId</th>\n",
       "      <th>movieId</th>\n",
       "      <th>rating</th>\n",
       "    </tr>\n",
       "  </thead>\n",
       "  <tbody>\n",
       "    <tr>\n",
       "      <th>0</th>\n",
       "      <td>1</td>\n",
       "      <td>296</td>\n",
       "      <td>5.0</td>\n",
       "    </tr>\n",
       "    <tr>\n",
       "      <th>1</th>\n",
       "      <td>1</td>\n",
       "      <td>306</td>\n",
       "      <td>3.5</td>\n",
       "    </tr>\n",
       "    <tr>\n",
       "      <th>2</th>\n",
       "      <td>1</td>\n",
       "      <td>307</td>\n",
       "      <td>5.0</td>\n",
       "    </tr>\n",
       "    <tr>\n",
       "      <th>3</th>\n",
       "      <td>1</td>\n",
       "      <td>665</td>\n",
       "      <td>5.0</td>\n",
       "    </tr>\n",
       "    <tr>\n",
       "      <th>4</th>\n",
       "      <td>1</td>\n",
       "      <td>899</td>\n",
       "      <td>3.5</td>\n",
       "    </tr>\n",
       "  </tbody>\n",
       "</table>\n",
       "</div>"
      ],
      "text/plain": [
       "   userId  movieId  rating\n",
       "0       1      296     5.0\n",
       "1       1      306     3.5\n",
       "2       1      307     5.0\n",
       "3       1      665     5.0\n",
       "4       1      899     3.5"
      ]
     },
     "execution_count": 3,
     "metadata": {},
     "output_type": "execute_result"
    }
   ],
   "source": [
    "df_ratings.head()"
   ]
  },
  {
   "cell_type": "code",
   "execution_count": 4,
   "metadata": {},
   "outputs": [],
   "source": [
    "userIDs, itemIDs = set(), set()\n",
    "\n",
    "movies = df_movies['movieId']\n",
    "users = df_ratings['userId']\n",
    "\n",
    "for item in movies:\n",
    "    itemIDs.add(item)\n",
    "\n",
    "for user in users:\n",
    "    userIDs.add(user)"
   ]
  },
  {
   "cell_type": "code",
   "execution_count": 5,
   "metadata": {},
   "outputs": [
    {
     "name": "stdout",
     "output_type": "stream",
     "text": [
      "itemIDs: 62423\n",
      "userIDs: 162541\n"
     ]
    }
   ],
   "source": [
    "print(f'itemIDs: {len(itemIDs)}')\n",
    "print(f'userIDs: {len(userIDs)}')"
   ]
  },
  {
   "cell_type": "code",
   "execution_count": 6,
   "metadata": {},
   "outputs": [],
   "source": [
    "movie_stats = df_ratings.groupby('movieId')['rating'].agg(['mean', 'median'])"
   ]
  },
  {
   "cell_type": "code",
   "execution_count": 7,
   "metadata": {},
   "outputs": [
    {
     "data": {
      "text/html": [
       "<div>\n",
       "<style scoped>\n",
       "    .dataframe tbody tr th:only-of-type {\n",
       "        vertical-align: middle;\n",
       "    }\n",
       "\n",
       "    .dataframe tbody tr th {\n",
       "        vertical-align: top;\n",
       "    }\n",
       "\n",
       "    .dataframe thead th {\n",
       "        text-align: right;\n",
       "    }\n",
       "</style>\n",
       "<table border=\"1\" class=\"dataframe\">\n",
       "  <thead>\n",
       "    <tr style=\"text-align: right;\">\n",
       "      <th></th>\n",
       "      <th>mean</th>\n",
       "      <th>median</th>\n",
       "    </tr>\n",
       "    <tr>\n",
       "      <th>movieId</th>\n",
       "      <th></th>\n",
       "      <th></th>\n",
       "    </tr>\n",
       "  </thead>\n",
       "  <tbody>\n",
       "    <tr>\n",
       "      <th>1</th>\n",
       "      <td>3.893708</td>\n",
       "      <td>4.0</td>\n",
       "    </tr>\n",
       "    <tr>\n",
       "      <th>2</th>\n",
       "      <td>3.251527</td>\n",
       "      <td>3.0</td>\n",
       "    </tr>\n",
       "    <tr>\n",
       "      <th>3</th>\n",
       "      <td>3.142028</td>\n",
       "      <td>3.0</td>\n",
       "    </tr>\n",
       "    <tr>\n",
       "      <th>4</th>\n",
       "      <td>2.853547</td>\n",
       "      <td>3.0</td>\n",
       "    </tr>\n",
       "    <tr>\n",
       "      <th>5</th>\n",
       "      <td>3.058434</td>\n",
       "      <td>3.0</td>\n",
       "    </tr>\n",
       "    <tr>\n",
       "      <th>...</th>\n",
       "      <td>...</td>\n",
       "      <td>...</td>\n",
       "    </tr>\n",
       "    <tr>\n",
       "      <th>209157</th>\n",
       "      <td>1.500000</td>\n",
       "      <td>1.5</td>\n",
       "    </tr>\n",
       "    <tr>\n",
       "      <th>209159</th>\n",
       "      <td>3.000000</td>\n",
       "      <td>3.0</td>\n",
       "    </tr>\n",
       "    <tr>\n",
       "      <th>209163</th>\n",
       "      <td>4.500000</td>\n",
       "      <td>4.5</td>\n",
       "    </tr>\n",
       "    <tr>\n",
       "      <th>209169</th>\n",
       "      <td>3.000000</td>\n",
       "      <td>3.0</td>\n",
       "    </tr>\n",
       "    <tr>\n",
       "      <th>209171</th>\n",
       "      <td>3.000000</td>\n",
       "      <td>3.0</td>\n",
       "    </tr>\n",
       "  </tbody>\n",
       "</table>\n",
       "<p>59047 rows × 2 columns</p>\n",
       "</div>"
      ],
      "text/plain": [
       "             mean  median\n",
       "movieId                  \n",
       "1        3.893708     4.0\n",
       "2        3.251527     3.0\n",
       "3        3.142028     3.0\n",
       "4        2.853547     3.0\n",
       "5        3.058434     3.0\n",
       "...           ...     ...\n",
       "209157   1.500000     1.5\n",
       "209159   3.000000     3.0\n",
       "209163   4.500000     4.5\n",
       "209169   3.000000     3.0\n",
       "209171   3.000000     3.0\n",
       "\n",
       "[59047 rows x 2 columns]"
      ]
     },
     "execution_count": 7,
     "metadata": {},
     "output_type": "execute_result"
    }
   ],
   "source": [
    "movie_stats"
   ]
  },
  {
   "cell_type": "code",
   "execution_count": 8,
   "metadata": {},
   "outputs": [],
   "source": [
    "df_movies_with_score = df_movies.merge(movie_stats, on='movieId', how='left')"
   ]
  },
  {
   "cell_type": "code",
   "execution_count": 9,
   "metadata": {},
   "outputs": [
    {
     "data": {
      "text/plain": [
       "movieId                  0\n",
       "title                    0\n",
       "year                     0\n",
       "(no genres listed)       0\n",
       "Action                   0\n",
       "Adventure                0\n",
       "Animation                0\n",
       "Children                 0\n",
       "Comedy                   0\n",
       "Crime                    0\n",
       "Documentary              0\n",
       "Drama                    0\n",
       "Fantasy                  0\n",
       "Film-Noir                0\n",
       "Horror                   0\n",
       "IMAX                     0\n",
       "Musical                  0\n",
       "Mystery                  0\n",
       "Romance                  0\n",
       "Sci-Fi                   0\n",
       "Thriller                 0\n",
       "War                      0\n",
       "Western                  0\n",
       "mean                  3376\n",
       "median                3376\n",
       "dtype: int64"
      ]
     },
     "execution_count": 9,
     "metadata": {},
     "output_type": "execute_result"
    }
   ],
   "source": [
    "df_movies_with_score.isnull().sum()"
   ]
  },
  {
   "cell_type": "code",
   "execution_count": 10,
   "metadata": {},
   "outputs": [
    {
     "data": {
      "text/plain": [
       "array([0.5       , 0.58333333, 0.6       , ..., 4.83333333, 5.        ,\n",
       "              nan])"
      ]
     },
     "execution_count": 10,
     "metadata": {},
     "output_type": "execute_result"
    }
   ],
   "source": [
    "np.unique(df_movies_with_score['mean'])"
   ]
  },
  {
   "cell_type": "code",
   "execution_count": 11,
   "metadata": {},
   "outputs": [
    {
     "ename": "NameError",
     "evalue": "name 'allRatings_sub' is not defined",
     "output_type": "error",
     "traceback": [
      "\u001b[0;31m---------------------------------------------------------------------------\u001b[0m",
      "\u001b[0;31mNameError\u001b[0m                                 Traceback (most recent call last)",
      "Cell \u001b[0;32mIn[11], line 1\u001b[0m\n\u001b[0;32m----> 1\u001b[0m ratingsTrain \u001b[38;5;241m=\u001b[39m allRatings_sub[:\u001b[38;5;28mint\u001b[39m(\u001b[38;5;28mlen\u001b[39m(allRatings_sub)\u001b[38;5;241m*\u001b[39m\u001b[38;5;241m0.6\u001b[39m)]\n\u001b[1;32m      2\u001b[0m ratingsValid \u001b[38;5;241m=\u001b[39m allRatings_sub[\u001b[38;5;28mint\u001b[39m(\u001b[38;5;28mlen\u001b[39m(allRatings_sub)\u001b[38;5;241m*\u001b[39m\u001b[38;5;241m0.6\u001b[39m):\u001b[38;5;28mint\u001b[39m(\u001b[38;5;28mlen\u001b[39m(allRatings_sub)\u001b[38;5;241m*\u001b[39m\u001b[38;5;241m0.8\u001b[39m)]\n\u001b[1;32m      3\u001b[0m ratingsTest \u001b[38;5;241m=\u001b[39m allRatings_sub[\u001b[38;5;28mint\u001b[39m(\u001b[38;5;28mlen\u001b[39m(allRatings_sub)\u001b[38;5;241m*\u001b[39m\u001b[38;5;241m0.8\u001b[39m):]\n",
      "\u001b[0;31mNameError\u001b[0m: name 'allRatings_sub' is not defined"
     ]
    }
   ],
   "source": [
    "ratingsTrain = allRatings_sub[:int(len(allRatings_sub)*0.6)]\n",
    "ratingsValid = allRatings_sub[int(len(allRatings_sub)*0.6):int(len(allRatings_sub)*0.8)]\n",
    "ratingsTest = allRatings_sub[int(len(allRatings_sub)*0.8):]\n",
    "\n",
    "usersPerItem = defaultdict(set)\n",
    "itemsPerUser = defaultdict(set)\n",
    "ratingsPerUser = defaultdict(list)\n",
    "ratingsPerItem = defaultdict(list)\n",
    "ratingDict = {}\n",
    "userID, itemID = set(), set()\n",
    "\n",
    "for index, row in ratingsTrain.iterrows():\n",
    "    user, item, rating = str(int(row[0])), str(int(row[1])), row[2]\n",
    "    userID.add(user)\n",
    "    itemID.add(item)\n",
    "\n",
    "    ratingsPerUser[user].append((item,rating))\n",
    "    ratingsPerItem[item].append((user,rating))\n",
    "    usersPerItem[item].add(user)\n",
    "    itemsPerUser[user].add(item)\n",
    "    ratingDict[(user,item)] = rating\n"
   ]
  },
  {
   "cell_type": "code",
   "execution_count": null,
   "metadata": {},
   "outputs": [],
   "source": []
  }
 ],
 "metadata": {
  "kernelspec": {
   "display_name": "base",
   "language": "python",
   "name": "python3"
  },
  "language_info": {
   "codemirror_mode": {
    "name": "ipython",
    "version": 3
   },
   "file_extension": ".py",
   "mimetype": "text/x-python",
   "name": "python",
   "nbconvert_exporter": "python",
   "pygments_lexer": "ipython3",
   "version": "3.11.10"
  }
 },
 "nbformat": 4,
 "nbformat_minor": 2
}
